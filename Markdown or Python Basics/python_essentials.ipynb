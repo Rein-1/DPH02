{
 "cells": [
  {
   "cell_type": "code",
   "execution_count": 3,
   "metadata": {},
   "outputs": [
    {
     "name": "stdout",
     "output_type": "stream",
     "text": [
      "Hello\n"
     ]
    }
   ],
   "source": [
    "print('Hello')"
   ]
  },
  {
   "cell_type": "code",
   "execution_count": 22,
   "metadata": {},
   "outputs": [
    {
     "name": "stdout",
     "output_type": "stream",
     "text": [
      "5\n",
      "-20\n",
      "2.14 Type <class 'float'>\n",
      "-2.14 Type <class 'float'>\n"
     ]
    }
   ],
   "source": [
    "integer_number = 5\n",
    "negative_integer = -20\n",
    "\n",
    "print(integer_number)\n",
    "print(negative_integer)\n",
    "type(integer_number)\n",
    "type(negative_integer)\n",
    "\n",
    "float_number = 2.14\n",
    "negative_float = -2.14\n",
    "\n",
    "print(float_number, \"Type\",type(float_number))\n",
    "print(negative_float,\"Type\", type(negative_float))"
   ]
  },
  {
   "cell_type": "markdown",
   "metadata": {},
   "source": [
    "### Setting up python\n",
    "* `python --version`\n",
    "* `python -m pip freeze`\n",
    "* `py -m venv venv`\n",
    "* `venv/Scripts/activate` (for windows)\n",
    "* `source activate` (for Mac)\n",
    " - if previous command didn't work, run:\n",
    " \n",
    "   `Set-ExecutionPolicy -ExecutionPolicy RemoteSigned -Scope CurrentUser`\n",
    " - run `venv/Scripts/activate` (for windows) or `source activate` (for Mac) again\n",
    "* Select Kernel > Python Environments > venv"
   ]
  },
  {
   "cell_type": "markdown",
   "metadata": {},
   "source": [
    "## Sequence Types ##\n",
    "1. **String**: String values, representing text or characters, such as 'hello', \"world\", '123', etc."
   ]
  },
  {
   "cell_type": "code",
   "execution_count": 1,
   "metadata": {},
   "outputs": [
    {
     "name": "stdout",
     "output_type": "stream",
     "text": [
      "Hello Python User123\n"
     ]
    }
   ],
   "source": [
    "str1 = \"Hello\"\n",
    "str2 = \"Python\"\n",
    "str3 = \"User123\"\n",
    "\n",
    "print(str1,str2,str3)"
   ]
  },
  {
   "cell_type": "code",
   "execution_count": 6,
   "metadata": {},
   "outputs": [
    {
     "name": "stdout",
     "output_type": "stream",
     "text": [
      "<class 'str'>\n",
      "H\n",
      "o\n"
     ]
    }
   ],
   "source": [
    "print(type(str1))\n",
    "# String Index\n",
    "print(str1[0])\n",
    "print(str1[-1])"
   ]
  },
  {
   "cell_type": "markdown",
   "metadata": {},
   "source": [
    "2. **Lists**: Lists are used when you need a collection of elements that can be modified or reordered. They are suitable for sequences of items of the same type or different types."
   ]
  },
  {
   "cell_type": "code",
   "execution_count": 9,
   "metadata": {},
   "outputs": [
    {
     "name": "stdout",
     "output_type": "stream",
     "text": [
      "[1, 2, 3, 4, 5]\n",
      "['Name1', 'Name2', 'Name3']\n",
      "2\n",
      "Name2\n",
      "['Name4', 'Name2', 'Name3']\n"
     ]
    }
   ],
   "source": [
    "numbers = [1,2,3,4,5] # List of integers\n",
    "names = ['Name1', 'Name2', 'Name3'] # List of Strings\n",
    "print(numbers)\n",
    "print(names)\n",
    "\n",
    "print(numbers[1]) # Indexing\n",
    "print(names[1])\n",
    "names[0] = \"Name4\"\n",
    "print(names)"
   ]
  },
  {
   "cell_type": "markdown",
   "metadata": {},
   "source": [
    "3. **Tuple**: Tuples are used when you want to store a fixed collection of elements that should not be changed. They are often used for immutable sequences, such as coordinates, database records, or function return values."
   ]
  },
  {
   "cell_type": "code",
   "execution_count": 11,
   "metadata": {},
   "outputs": [
    {
     "data": {
      "text/plain": [
       "(1, 'Hello', 3.14)"
      ]
     },
     "execution_count": 11,
     "metadata": {},
     "output_type": "execute_result"
    }
   ],
   "source": [
    "tuple_values = (1, 'Hello', 3.14)\n",
    "tuple_values"
   ]
  },
  {
   "cell_type": "markdown",
   "metadata": {},
   "source": [
    "**Dictionaries**:  Dictionaries are used when you need to associate keys with values for efficient lookup. They are suitable for representing data with key-value relationships, such as mappings, configurations, or database records indexed by unique keys."
   ]
  },
  {
   "cell_type": "code",
   "execution_count": 21,
   "metadata": {},
   "outputs": [
    {
     "data": {
      "text/plain": [
       "'Mark'"
      ]
     },
     "execution_count": 21,
     "metadata": {},
     "output_type": "execute_result"
    }
   ],
   "source": [
    "person = {'name': 'Mark', 'age': 20}\n",
    "person['name']\n"
   ]
  },
  {
   "cell_type": "markdown",
   "metadata": {},
   "source": [
    "# Boolean Type"
   ]
  },
  {
   "cell_type": "markdown",
   "metadata": {},
   "source": [
    "#### bool: Boolian values representing True or False"
   ]
  },
  {
   "cell_type": "code",
   "execution_count": 23,
   "metadata": {},
   "outputs": [
    {
     "name": "stdout",
     "output_type": "stream",
     "text": [
      "True\n",
      "False\n",
      "<class 'bool'>\n"
     ]
    }
   ],
   "source": [
    "is_valid = True\n",
    "is_admin = False\n",
    "print(is_valid)\n",
    "print(is_admin)\n",
    "print(type(is_valid))"
   ]
  },
  {
   "cell_type": "markdown",
   "metadata": {},
   "source": [
    "#### Dynamic Typing\n",
    "Variables can change type after they have been set. This is known as dynamic typing."
   ]
  },
  {
   "cell_type": "code",
   "execution_count": 26,
   "metadata": {},
   "outputs": [
    {
     "name": "stdout",
     "output_type": "stream",
     "text": [
      "<class 'int'>\n",
      "<class 'str'>\n",
      "<class 'float'>\n"
     ]
    }
   ],
   "source": [
    "my_var = 10\n",
    "print(type(my_var))\n",
    "\n",
    "my_var = 'Test'\n",
    "print(type(my_var))\n",
    "\n",
    "my_var = 1.2\n",
    "print(type(my_var))"
   ]
  },
  {
   "cell_type": "markdown",
   "metadata": {},
   "source": [
    "### Python Operators and Expressions\n",
    "##### Arithmetic Operators"
   ]
  },
  {
   "cell_type": "code",
   "execution_count": 31,
   "metadata": {},
   "outputs": [
    {
     "name": "stdout",
     "output_type": "stream",
     "text": [
      "Addition:  15\n",
      "Subtraction:  5\n",
      "Multiplication:  50\n",
      "Division:  0.5\n",
      "Modulus:  5\n",
      "Exponent:  1000\n"
     ]
    }
   ],
   "source": [
    "# Addition +\n",
    "print(\"Addition: \", 5 + 10)\n",
    "\n",
    "# Subtraction -\n",
    "print(\"Subtraction: \", 10 - 5)\n",
    "\n",
    "# Multiplication *\n",
    "print(\"Multiplication: \", 5 * 10)\n",
    "\n",
    "# Division\n",
    "print(\"Division: \", 5 / 10)\n",
    "\n",
    "# Modulus %\n",
    "print(\"Modulus: \", 5 % 10)\n",
    "\n",
    "# Exponent **\n",
    "print(\"Exponent: \", 10 ** 3)"
   ]
  },
  {
   "cell_type": "markdown",
   "metadata": {},
   "source": [
    "### Comparison Operator"
   ]
  },
  {
   "cell_type": "code",
   "execution_count": 32,
   "metadata": {},
   "outputs": [
    {
     "name": "stdout",
     "output_type": "stream",
     "text": [
      "False\n",
      "True\n",
      "True\n",
      "False\n",
      "True\n",
      "False\n"
     ]
    }
   ],
   "source": [
    "x = 10\n",
    "y = 5\n",
    "# Equal to\n",
    "result = x == y\n",
    "print(result)\n",
    "# Not equal to\n",
    "result = x != y\n",
    "print(result)\n",
    "# Greater Than\n",
    "result = x > y\n",
    "print(result)\n",
    "# Less Than\n",
    "result = x < y\n",
    "print(result)\n",
    "# greater than or equal to\n",
    "result = x >= y\n",
    "print(result)\n",
    "# less than or equal to\n",
    "result = x <= y\n",
    "print(result)"
   ]
  },
  {
   "cell_type": "markdown",
   "metadata": {},
   "source": [
    "### Logical Operators"
   ]
  },
  {
   "cell_type": "code",
   "execution_count": 33,
   "metadata": {},
   "outputs": [
    {
     "name": "stdout",
     "output_type": "stream",
     "text": [
      "True\n",
      "True\n",
      "False\n"
     ]
    }
   ],
   "source": [
    "x = 10\n",
    "y = 5\n",
    "# AND\n",
    "result = (x > 5) and (y < 10)\n",
    "print(result)\n",
    "# OR\n",
    "result = (x > 5) or (y < 3)\n",
    "print(result)\n",
    "# NOT\n",
    "result =  not (x == 10)\n",
    "print(result)"
   ]
  },
  {
   "cell_type": "markdown",
   "metadata": {},
   "source": [
    "### Assignment Operators"
   ]
  },
  {
   "cell_type": "code",
   "execution_count": 34,
   "metadata": {},
   "outputs": [
    {
     "name": "stdout",
     "output_type": "stream",
     "text": [
      "15\n",
      "10\n",
      "50\n",
      "10.0\n"
     ]
    }
   ],
   "source": [
    "x = 10\n",
    "#Addition Assignment\n",
    "x += 5 # x = x + 5\n",
    "print(x)\n",
    "#Subtraction\n",
    "x -= 5\n",
    "print(x)\n",
    "#Multiplication\n",
    "x *= 5\n",
    "print(x)\n",
    "#Division\n",
    "x /= 5\n",
    "print(x)"
   ]
  },
  {
   "cell_type": "markdown",
   "metadata": {},
   "source": [
    "### Type Coercion or Type Conversion"
   ]
  },
  {
   "cell_type": "code",
   "execution_count": 35,
   "metadata": {},
   "outputs": [
    {
     "name": "stdout",
     "output_type": "stream",
     "text": [
      "10.0\n",
      "<class 'float'>\n",
      "10.23\n",
      "<class 'str'>\n",
      "10\n"
     ]
    }
   ],
   "source": [
    "x = 10 # int\n",
    "# converting to float\n",
    "x = float(x)\n",
    "print(x)\n",
    "print(type(x))\n",
    "# convert to string\n",
    "x = 10.23\n",
    "x = str(x)\n",
    "print(x)\n",
    "print(type(x))\n",
    "x = 10.45\n",
    "x = int(x)\n",
    "print(x)"
   ]
  },
  {
   "cell_type": "markdown",
   "metadata": {},
   "source": [
    "## String Model"
   ]
  },
  {
   "cell_type": "code",
   "execution_count": 36,
   "metadata": {},
   "outputs": [
    {
     "name": "stdout",
     "output_type": "stream",
     "text": [
      "Hello Python!\n",
      "13\n",
      "H\n",
      "Hello\n",
      "!gnirts siht esreveR\n"
     ]
    }
   ],
   "source": [
    "my_string = \"Hello Python!\"\n",
    "print(my_string)\n",
    "print(len(my_string))\n",
    "first_letter = my_string[0]\n",
    "print(first_letter)\n",
    "slice_string = my_string[0:5]\n",
    "print(slice_string)\n",
    "my_text = \"Reverse this string!\"\n",
    "# starting point: ending point : traversal method\n",
    "reversed_string = my_text[::-1]\n",
    "print(reversed_string)"
   ]
  },
  {
   "cell_type": "code",
   "execution_count": 38,
   "metadata": {},
   "outputs": [
    {
     "name": "stdout",
     "output_type": "stream",
     "text": [
      "Data analytics course\n",
      "Data Analytics Course\n",
      "True\n",
      "False\n",
      "5\n",
      "-1\n",
      "information analytics course\n",
      "Information Analytics Course\n",
      "DATA ANALYTICS COURSE\n",
      "data analytics course\n"
     ]
    }
   ],
   "source": [
    "sample_string = \"data analytics course\"\n",
    "# capitalize\n",
    "print(sample_string.capitalize())\n",
    "# title\n",
    "print(sample_string.title())\n",
    "# in\n",
    "print(\"data\" in sample_string)\n",
    "print(\"science\" in sample_string)\n",
    "# find\n",
    "print(sample_string.find(\"analytics\"))\n",
    "print(sample_string.find(\"science\"))\n",
    "#replace\n",
    "print(sample_string.replace(\"data\", \"information\"))\n",
    "# combine\n",
    "print(sample_string.replace(\"data\", \"information\").title())\n",
    "# lower and uppercase\n",
    "print(sample_string.upper())\n",
    "print(sample_string.lower())"
   ]
  },
  {
   "cell_type": "code",
   "execution_count": 39,
   "metadata": {},
   "outputs": [
    {
     "name": "stdout",
     "output_type": "stream",
     "text": [
      "2\n",
      "Data Analyst - Junior\n",
      "Words: ['Python', 'is', 'fun', 'to', 'learn']\n"
     ]
    }
   ],
   "source": [
    "text = \"the quick brown fox jumps over the lazy dog\"\n",
    "# count\n",
    "print(text.count(\"the\"))\n",
    "messy_string = \"        Data Analyst - Junior       \"\n",
    "# strip\n",
    "print(messy_string.strip())\n",
    "# split\n",
    "sentence = \"Python is fun to learn\"\n",
    "words = sentence.split(\" \")\n",
    "print(\"Words:\", words)"
   ]
  },
  {
   "cell_type": "markdown",
   "metadata": {},
   "source": [
    "**Concatenation**"
   ]
  },
  {
   "cell_type": "code",
   "execution_count": 40,
   "metadata": {},
   "outputs": [
    {
     "name": "stdout",
     "output_type": "stream",
     "text": [
      "Abbi Vicente\n",
      "Hello my name is Abbi Vicente\n",
      "\n",
      "SELECT * FROM\n",
      "WHERE\n",
      "x in (Abbi)\n",
      "\n"
     ]
    }
   ],
   "source": [
    "first_name = \"Abbi\"\n",
    "last_name = \"Vicente\"\n",
    "full_name = first_name + \" \" + last_name\n",
    "print(full_name)\n",
    "#f-strings\n",
    "print(f\"Hello my name is {first_name} {last_name}\")\n",
    "sql_str = \"\"\"\n",
    "SELECT * FROM\n",
    "WHERE\n",
    "x in ({x})\n",
    "\"\"\"\n",
    "print(sql_str.format(x=first_name))"
   ]
  },
  {
   "cell_type": "markdown",
   "metadata": {},
   "source": [
    "## List Methods"
   ]
  },
  {
   "cell_type": "code",
   "execution_count": 41,
   "metadata": {},
   "outputs": [
    {
     "name": "stdout",
     "output_type": "stream",
     "text": [
      "['Python', 'Java', 'C++']\n",
      "['Python', 'Java', 'C++', 'PHP']\n",
      "['Python', 'Java', 'Ruby', 'C++', 'PHP']\n",
      "['Python', 'Java', 'Ruby', 'C++']\n",
      "['Python', 'Ruby', 'C++']\n",
      "['Python', 'C++']\n"
     ]
    }
   ],
   "source": [
    "# Create list\n",
    "my_list = [\"Python\", \"Java\", \"C++\"]\n",
    "print(my_list)\n",
    "# Adding a new item - append\n",
    "my_list.append(\"PHP\")\n",
    "print(my_list)\n",
    "# Insert item at a specific position\n",
    "my_list.insert(2, \"Ruby\")\n",
    "print(my_list)\n",
    "# Remove item at the end\n",
    "my_list.pop()\n",
    "print(my_list)\n",
    "# remove specific value\n",
    "my_list.remove(\"Java\")\n",
    "print(my_list)\n",
    "# remove by index\n",
    "del my_list[1]\n",
    "print(my_list)"
   ]
  },
  {
   "cell_type": "code",
   "execution_count": 42,
   "metadata": {},
   "outputs": [
    {
     "data": {
      "text/plain": [
       "[4, 3, 2, 1]"
      ]
     },
     "execution_count": 42,
     "metadata": {},
     "output_type": "execute_result"
    }
   ],
   "source": [
    "# list slicing\n",
    "list_data = [1, 2, 3, 4, 5]\n",
    "# starting point : ending point : traversal method\n",
    "list_data[3:]\n",
    "list_data[3::-1]"
   ]
  },
  {
   "cell_type": "code",
   "execution_count": 43,
   "metadata": {},
   "outputs": [
    {
     "name": "stdout",
     "output_type": "stream",
     "text": [
      "[1, 2, 3, 'a', 'b', True]\n",
      "[1, 2, 3, 'a', 'b', True]\n"
     ]
    }
   ],
   "source": [
    "# list extending\n",
    "list_a = [1, 2, 3]\n",
    "list_b = [\"a\", \"b\", True]\n",
    "# combining lists\n",
    "print(list_a + list_b)\n",
    "# extendin a list with another list\n",
    "list_a.extend(list_b)\n",
    "print(list_a)"
   ]
  },
  {
   "cell_type": "code",
   "execution_count": 44,
   "metadata": {},
   "outputs": [
    {
     "name": "stdout",
     "output_type": "stream",
     "text": [
      "[3, 5, 8, 19, 20]\n",
      "[20, 19, 8, 5, 3]\n",
      "['Al', 'Brandy', 'Cristina', 'Marc']\n"
     ]
    }
   ],
   "source": [
    "# sort\n",
    "list_data = [3, 5, 19, 20, 8]\n",
    "list_data.sort()\n",
    "print(list_data)\n",
    "# Descending order\n",
    "list_data.sort(reverse=True)\n",
    "print(list_data)\n",
    "list_names = [\"Brandy\", \"Al\", \"Cristina\", \"Marc\"]\n",
    "list_names.sort()\n",
    "print(list_names)"
   ]
  },
  {
   "cell_type": "markdown",
   "metadata": {},
   "source": [
    "## Tuple Methods"
   ]
  },
  {
   "cell_type": "code",
   "execution_count": 45,
   "metadata": {},
   "outputs": [
    {
     "name": "stdout",
     "output_type": "stream",
     "text": [
      "3\n",
      "3\n",
      "(1, 2, 3, 4)\n",
      "(1, 2, 1, 2, 1, 2)\n"
     ]
    }
   ],
   "source": [
    "#create a tuple\n",
    "tuple_data = (1, 2, 3, 4, 5)\n",
    "print(tuple_data[2])\n",
    "nested_list_tuple = ([1, 2], [3, 4], [5, 6])\n",
    "print(nested_list_tuple[1][0])\n",
    "# combining tuples\n",
    "tuple_data = (1, 2) + (3, 4)\n",
    "print(tuple_data)\n",
    "# duplicating tuples in one tuple\n",
    "tuple_data = (1, 2) * 3\n",
    "print(tuple_data)"
   ]
  },
  {
   "cell_type": "markdown",
   "metadata": {},
   "source": [
    "### Exercise:\n",
    "\n",
    "Exercise 1: Working with Lists\n",
    "1. Create a list of three fruits of your choice.\n",
    "2. Add another fruit to the list and remove the first fruit.\n",
    "3. Print the final list of fruits.\n",
    "\n",
    "Exercise 2: List Slicing and Accessing\n",
    "1. Given the list numbers = [10, 20, 30, 40, 50], print the second and fourth number using indexing.\n",
    "2. Use slicing to print the last three numbers in the list.\n",
    "\n",
    "Exercise 3: List Comprehension\n",
    "1. Create a new list that contains each number from an existing list numbers = [1, 2, 3, 4, 5] squared, using list comprehension.\n",
    "2. Print the new list.\n",
    "\n",
    "Exercise 4: Tuple Basics\n",
    "1. Create a tuple named info containing your name and age.\n",
    "2. Print the second element of the tuple.\n",
    "\n",
    "Exercise 5: Tuples for Fixed Data\n",
    "1. Given a tuple months with all the months of the year, try updating the first month to \"January\". Catch the TypeError and print a custom message explaining that tuples are immutable.\n",
    "\n",
    "Exercise 6: Tuple Packing and Unpacking\n",
    "1. Pack five favorite colors into a tuple named colors.\n",
    "2. Unpack these colors into individual variables and print them."
   ]
  },
  {
   "cell_type": "code",
   "execution_count": 72,
   "metadata": {},
   "outputs": [
    {
     "name": "stdout",
     "output_type": "stream",
     "text": [
      "['Apple', 'Mango', 'Orange']\n",
      "['Apple', 'Mango', 'Orange', 'grapes']\n"
     ]
    }
   ],
   "source": [
    "# Exercise 1\n",
    "fruits = ['Apple', 'Mango', 'Orange']\n",
    "print(fruits)\n",
    "\n",
    "fruits.append('grapes')\n",
    "print(fruits)"
   ]
  },
  {
   "cell_type": "code",
   "execution_count": 73,
   "metadata": {},
   "outputs": [
    {
     "name": "stdout",
     "output_type": "stream",
     "text": [
      "[20, 30]\n",
      "[30, 40, 50]\n"
     ]
    }
   ],
   "source": [
    "# Exercise 2\n",
    "numbers = [10, 20, 30, 40, 50]\n",
    "print(numbers[1:-2])\n",
    "print(numbers[-3:])"
   ]
  },
  {
   "cell_type": "code",
   "execution_count": 74,
   "metadata": {},
   "outputs": [
    {
     "name": "stdout",
     "output_type": "stream",
     "text": [
      "[1, 4, 9, 16, 25]\n"
     ]
    }
   ],
   "source": [
    "# Exercise 3\n",
    "numbers = [1, 2, 3, 4, 5]\n",
    "sq_numbers = [x**2 for x in numbers]\n",
    "print(sq_numbers)"
   ]
  },
  {
   "cell_type": "code",
   "execution_count": 79,
   "metadata": {},
   "outputs": [
    {
     "name": "stdout",
     "output_type": "stream",
     "text": [
      "20\n"
     ]
    }
   ],
   "source": [
    "# Exercise 4\n",
    "tuple = (\"Mark Mercado\", 20)\n",
    "print(tuple[1])"
   ]
  },
  {
   "cell_type": "code",
   "execution_count": 82,
   "metadata": {},
   "outputs": [
    {
     "name": "stdout",
     "output_type": "stream",
     "text": [
      "Tuples are immutable. You cannot change the elements after they are created\n"
     ]
    }
   ],
   "source": [
    "# Exercise 5\n",
    "months = (\"January\", \"February\", \"March\", \"April\", \"May\", \"June\", \"July\", \"August\", \"September\", \"October\", \"November\", \"December\")\n",
    "try:\n",
    "    months[0] = \"January\"\n",
    "    \n",
    "except TypeError:\n",
    "    print('Tuples are immutable. You cannot change the elements after they are created')"
   ]
  },
  {
   "cell_type": "code",
   "execution_count": 87,
   "metadata": {},
   "outputs": [
    {
     "name": "stdout",
     "output_type": "stream",
     "text": [
      "Colors: red, green, blue, purple, yellow\n"
     ]
    }
   ],
   "source": [
    "# Exercise 6\n",
    "colors = (\"red\", \"blue\", \"green\", \"yellow\", \"purple\")\n",
    "a,b,c,d,e = colors\n",
    "print('Colors: {}, {}, {}, {}, {}'.format(a,c,b,e,d))"
   ]
  },
  {
   "cell_type": "markdown",
   "metadata": {},
   "source": [
    "## Dictionary"
   ]
  },
  {
   "cell_type": "code",
   "execution_count": 88,
   "metadata": {},
   "outputs": [
    {
     "name": "stdout",
     "output_type": "stream",
     "text": [
      "John\n",
      "PH\n",
      "{'name': 'John', 'country': 'PH'}\n",
      "dict_keys(['name', 'country'])\n",
      "dict_values(['John', 'PH'])\n",
      "dict_items([('name', 'John'), ('country', 'PH')])\n"
     ]
    }
   ],
   "source": [
    "dict_data = {\n",
    " \"name\": \"John\",\n",
    " \"age\": 20,\n",
    " \"country\": \"PH\"\n",
    "}\n",
    "print(dict_data[\"name\"])\n",
    "# get\n",
    "print(dict_data.get(\"country\"))\n",
    "# remove key-value pairs\n",
    "del dict_data[\"age\"]\n",
    "print(dict_data)\n",
    "# keys - List out keys of a dictionary\n",
    "print(dict_data.keys())\n",
    "# values - List out values of a dictionary\n",
    "print(dict_data.values())\n",
    "# items - get key-value pairs\n",
    "print(dict_data.items())"
   ]
  },
  {
   "cell_type": "code",
   "execution_count": 89,
   "metadata": {},
   "outputs": [
    {
     "name": "stdout",
     "output_type": "stream",
     "text": [
      "{'a': 1, 'b': 2}\n",
      "{'b': 3, 'c': 4}\n",
      "{'a': 1, 'b': 3, 'c': 4}\n"
     ]
    }
   ],
   "source": [
    "dict_data1 = {\"a\": 1, \"b\": 2}\n",
    "print(dict_data1)\n",
    "dict_data2 = {\"b\": 3, \"c\": 4}\n",
    "print(dict_data2)\n",
    "# update - update/merge\n",
    "dict_data1.update(dict_data2)\n",
    "print(dict_data1)"
   ]
  },
  {
   "cell_type": "markdown",
   "metadata": {},
   "source": [
    "**Getting a Dictionary of Keys and Default Values**"
   ]
  },
  {
   "cell_type": "code",
   "execution_count": 90,
   "metadata": {},
   "outputs": [
    {
     "name": "stdout",
     "output_type": "stream",
     "text": [
      "{'a': 0, 'b': 0, 'c': 0}\n",
      "{'a': 1, 'b': 0, 'c': 0}\n"
     ]
    }
   ],
   "source": [
    "keys = [\"a\", \"b\", \"c\"]\n",
    "default_values = 0\n",
    "dict_data3 = dict.fromkeys(keys, default_values)\n",
    "print(dict_data3)\n",
    "# setting new values for keys\n",
    "dict_data3[\"a\"] = 1\n",
    "print(dict_data3)"
   ]
  },
  {
   "cell_type": "markdown",
   "metadata": {},
   "source": [
    "## Control Flows and Statements"
   ]
  },
  {
   "cell_type": "code",
   "execution_count": 91,
   "metadata": {},
   "outputs": [
    {
     "name": "stdout",
     "output_type": "stream",
     "text": [
      "Wow! It's not hot!\n",
      "It's a regular day\n"
     ]
    }
   ],
   "source": [
    "# conditional statements\n",
    "# if/else\n",
    "temperature = 29\n",
    "if temperature >= 40:\n",
    " print(\"It's pretty hot.\")\n",
    "elif temperature >= 30:\n",
    " print(\"It's not as hot as before\")\n",
    "else:\n",
    " print(\"Wow! It's not hot!\")\n",
    " # match/case\n",
    "day = \"Thursday\"\n",
    "match day:\n",
    " case \"Monday\":\n",
    "  print(\"It's the start of the week\")\n",
    " case \"Friday\":\n",
    "  print(\"It's the weekend!\")\n",
    " case _:\n",
    "  print(\"It's a regular day\")"
   ]
  },
  {
   "cell_type": "code",
   "execution_count": 101,
   "metadata": {},
   "outputs": [
    {
     "name": "stdout",
     "output_type": "stream",
     "text": [
      "0\n",
      "1\n",
      "2\n",
      "While loop is done!\n",
      "0\n",
      "1\n",
      "2\n",
      "3\n",
      "4\n",
      "5\n",
      "6\n",
      "7\n",
      "8\n",
      "9\n",
      "1\n",
      "2\n",
      "3\n",
      "4\n",
      "5\n",
      "List data:  1\n",
      "List data:  2\n",
      "List data:  3\n",
      "List data:  4\n",
      "List data:  5\n",
      "1 2 3 4 5 \n",
      "t\n",
      "e\n",
      "s\n",
      "t\n"
     ]
    }
   ],
   "source": [
    "# Looping Statements\n",
    "# while\n",
    "count = 0\n",
    "while (count < 3):\n",
    " print(count)\n",
    " count = count + 1\n",
    "else:\n",
    " print(\"While loop is done!\")\n",
    "# For\n",
    "# range(number of times to repeat statement)\n",
    "for i in range(10):\n",
    "    print(i)\n",
    "# range(starting value, ending value)\n",
    "for i in range(1, 6):\n",
    "    print(i)\n",
    "# iterable values (lists, tuples, strings, etc.)\n",
    "# looping through lists\n",
    "list_data = [1, 2, 3, 4, 5]\n",
    "for i in list_data:\n",
    "     print(\"List data: \", i)\n",
    "# printing horizontally\n",
    "list_str = \"\"\n",
    "for i in list_data:\n",
    "    list_str += f\"{i} \"\n",
    "print(list_str)\n",
    "# looping through strings\n",
    "str4 = \"test\"\n",
    "for i in str4:\n",
    "    print(i)"
   ]
  },
  {
   "cell_type": "markdown",
   "metadata": {},
   "source": [
    "## Python Functions\n",
    "- Groups code together into a block.\n",
    "- Allows us to call and reuse code efficently.\n",
    "- It could take in information (parameters) and return information (return statement) to the caller."
   ]
  },
  {
   "cell_type": "code",
   "execution_count": 102,
   "metadata": {},
   "outputs": [
    {
     "name": "stdout",
     "output_type": "stream",
     "text": [
      "Hello World\n",
      "Hello World\n",
      "Hello World\n",
      "Hello World\n"
     ]
    }
   ],
   "source": [
    "def my_function():\n",
    " print(\"Hello World\")\n",
    "# calling a function\n",
    "my_function()\n",
    "my_function()\n",
    "my_function()\n",
    "my_function()"
   ]
  },
  {
   "cell_type": "code",
   "execution_count": 103,
   "metadata": {},
   "outputs": [
    {
     "name": "stdout",
     "output_type": "stream",
     "text": [
      "Hello, I am Abbi.\n",
      "Hello, I am Abbi Vicente\n"
     ]
    }
   ],
   "source": [
    "# parameters and arguments\n",
    "def name_function(fname):\n",
    " print(f\"Hello, I am {fname}.\")\n",
    "name_function(\"Abbi\")\n",
    "# multiple parameters and arguments\n",
    "def full_name(fname, lname):\n",
    " print(\"Hello, I am\" + \" \" + fname + \" \" + lname)\n",
    "full_name(\"Abbi\", \"Vicente\")"
   ]
  },
  {
   "cell_type": "code",
   "execution_count": 104,
   "metadata": {},
   "outputs": [
    {
     "name": "stdout",
     "output_type": "stream",
     "text": [
      "Aaron\n",
      "Francis\n",
      "Adrian\n",
      "Julia\n"
     ]
    }
   ],
   "source": [
    "# Arbitrary Arguments (*args)\n",
    "def list_function(*kids):\n",
    " for i in kids:\n",
    "  print(i)\n",
    "list_function(\"Aaron\", \"Francis\", \"Adrian\", \"Julia\")"
   ]
  },
  {
   "cell_type": "code",
   "execution_count": 109,
   "metadata": {},
   "outputs": [
    {
     "name": "stdout",
     "output_type": "stream",
     "text": [
      "Banana\n",
      "Grapes\n",
      "Apple\n",
      "This person's name is Princess Lim\n"
     ]
    }
   ],
   "source": [
    "# Keyword Arguments\n",
    "def fruit_function(fruit3, fruit2, fruit1):\n",
    "    print(fruit1)\n",
    "    print(fruit2)\n",
    "    print(fruit3)\n",
    "\n",
    "fruit_function(fruit1=\"Banana\", fruit2=\"Grapes\", fruit3=\"Apple\")\n",
    "\n",
    "# Arbitrary keyword arguments (**kwargs)\n",
    "# use pass to make placeholder functions\n",
    "def person_function(**details):\n",
    "    print(f\"This person's name is {details['fname']} {details['lname']}\")\n",
    "\n",
    "person_function(fname=\"Princess\", lname=\"Lim\")\n"
   ]
  },
  {
   "cell_type": "code",
   "execution_count": null,
   "metadata": {},
   "outputs": [],
   "source": []
  }
 ],
 "metadata": {
  "kernelspec": {
   "display_name": "venv",
   "language": "python",
   "name": "python3"
  },
  "language_info": {
   "codemirror_mode": {
    "name": "ipython",
    "version": 3
   },
   "file_extension": ".py",
   "mimetype": "text/x-python",
   "name": "python",
   "nbconvert_exporter": "python",
   "pygments_lexer": "ipython3",
   "version": "3.10.6"
  }
 },
 "nbformat": 4,
 "nbformat_minor": 2
}
