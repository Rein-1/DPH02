{
 "cells": [
  {
   "cell_type": "markdown",
   "metadata": {},
   "source": [
    "- **Shift + Enter**: Execute the current cell and move to the next one.\n",
    "- **Ctrl + Enter**: Execute the current cell and remain in the same cell.\n",
    "- **Esc**: Enter command mode, allowing for navigation and execution commands.\n",
    "- **Enter**: Enter edit mode for the currently selected cell.\n",
    "- **A (in command mode)**: Insert a new cell above the current cell.\n",
    "- **B (in command mode)**: Insert a new cell below the current cell.\n",
    "- **M (in command mode)**: Change the current cell to a Markdown cell.\n",
    "- **Y (in command mode)**: Change the current cell to a Code cell."
   ]
  },
  {
   "cell_type": "code",
   "execution_count": null,
   "metadata": {},
   "outputs": [],
   "source": []
  }
 ],
 "metadata": {
  "language_info": {
   "name": "python"
  }
 },
 "nbformat": 4,
 "nbformat_minor": 2
}
